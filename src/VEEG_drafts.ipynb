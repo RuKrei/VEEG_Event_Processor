{
 "metadata": {
  "language_info": {
   "codemirror_mode": {
    "name": "ipython",
    "version": 3
   },
   "file_extension": ".py",
   "mimetype": "text/x-python",
   "name": "python",
   "nbconvert_exporter": "python",
   "pygments_lexer": "ipython3",
   "version": "3.7.5-final"
  },
  "orig_nbformat": 2,
  "kernelspec": {
   "name": "python37564bitmegconda588718a20d4e488692bc9bad2748eb0b",
   "display_name": "Python 3.7.5 64-bit ('MEG': conda)",
   "language": "python"
  }
 },
 "nbformat": 4,
 "nbformat_minor": 2,
 "cells": [
  {
   "cell_type": "code",
   "execution_count": null,
   "metadata": {},
   "outputs": [],
   "source": [
    "import os\n",
    "import glob\n",
    "import mne\n",
    "from mne import Report\n",
    "import matplotlib.pyplot as plt\n",
    "import pandas as pd\n",
    "import seaborn as sns\n",
    "import numpy as np\n",
    "import plotly.graph_objects as go\n",
    "from utils import (get_parent_dir, extract_lab_sec, loc_of_sep_lines, plot_seizure_horizontal, plot_seizure_vertical,\n",
    "                                        raw_to_df, extract_groups, extract_ordered_groups, save_plotly_to_html,\n",
    "                                        shrink_df_to_tmax, create_results_folders, save_fig_to_disc, plot_interactive_subplot_with_table,\n",
    "                                        extract_parameters_from_raw, plot_eventcounts, plot_interactive_tables)\n",
    "import plotly as py\n",
    "import ipywidgets as widgets\n",
    "import plotly.io as pio\n",
    "from plotly.subplots import make_subplots\n",
    "\n",
    "py.offline.init_notebook_mode(connected=True)\n",
    "graph_sep_line_width = 5\n",
    "plot_tmin = 5\n",
    "plot_tmax = 60"
   ]
  },
  {
   "cell_type": "code",
   "execution_count": null,
   "metadata": {},
   "outputs": [],
   "source": [
    "def extract_parameters_from_raw(raw=None):\n",
    "    highp = raw.info[\"highpass\"]\n",
    "    lowp = raw.info[\"lowpass\"]\n",
    "    sfreq = raw.info[\"sfreq\"]\n",
    "    aq = raw.info[\"meas_date\"]\n",
    "    channels = raw.info[\"ch_names\"]\n",
    "    nr_channels = raw.info[\"nchan\"]\n",
    "    return highp, lowp, sfreq, aq, channels, nr_channels\n",
    "\n",
    "def raw_to_df(raw, edf=None):\n",
    "    df = pd.DataFrame(raw.annotations)\n",
    "    to_drop = [\"duration\"]\n",
    "    df = df.drop(to_drop, axis=1)\n",
    "    if \"Beginn\" in str(df[\"description\"]):\n",
    "        samp_beginn = df[df[\"description\"].str.contains(\"Beginn\")][\"onset\"]\n",
    "        onset = samp_beginn\n",
    "        if isinstance(samp_beginn, pd.core.series.Series):\n",
    "            print(f\"There are multiple markers for seizure onset in this file --> taking first one.\")\n",
    "            samp_beginn = samp_beginn.iloc[0]\n",
    "            onset = samp_beginn\n",
    "    else:\n",
    "        print(\"Error: No marker containing \\\"Beginn\\\" found, cannot determine seizure onset for file: \", edf)\n",
    "        print(\"Setting seizure onset to the beginning of the file\")\n",
    "        samp_beginn = 0\n",
    "        onset = \"No seizure onset was marked\"\n",
    "    df[\"time_from_onset\"] = df[\"onset\"] - float(samp_beginn)\n",
    "    df = df.drop([\"orig_time\"], axis=1)\n",
    "    return df, onset"
   ]
  },
  {
   "cell_type": "code",
   "execution_count": null,
   "metadata": {},
   "outputs": [],
   "source": [
    "edfs = glob.glob(\"../data/*.edf\")\n",
    "e = edfs[0]\n",
    "e"
   ]
  },
  {
   "cell_type": "code",
   "execution_count": null,
   "metadata": {},
   "outputs": [],
   "source": [
    "raw = mne.io.read_raw(e)\n",
    "df, onset = raw_to_df(raw, e)\n",
    "e_events, s_events, t_events = extract_groups(df, e)\n",
    "e_events"
   ]
  },
  {
   "cell_type": "code",
   "execution_count": null,
   "metadata": {},
   "outputs": [],
   "source": [
    "def plot_eventcounts(df=None, eeg=None, semio=None, source=None):\n",
    "    fig, ax = plt.subplots(figsize=(15,26))\n",
    "    plt.suptitle(str(source) + \" - Event counts\")\n",
    "    #EEG\n",
    "    ax1 = fig.add_subplot(2, 1, 1)\n",
    "    ax1.set_title(\"EEG Events\")\n",
    "    if len(eeg['description'].value_counts()) > 0:\n",
    "        sns.countplot(y=\"description\", data=eeg, orient=\"h\", ax=ax1, order = eeg['description'].value_counts().index)\n",
    "    else:\n",
    "        #plt.plot(x=1, y=1)\n",
    "        ax1.set_title(\"No EEG events found in file...\")\n",
    "    #Semiology\n",
    "    ax2 = fig.add_subplot(2, 1, 2)\n",
    "    ax2.set_title(\"Semiology Events\")\n",
    "    if [semio['description'].value_counts()] != []:\n",
    "        sns.countplot(y=\"description\", data=semio, orient=\"h\", ax=ax2, order = semio['description'].value_counts().index)\n",
    "    else:\n",
    "        plt.plot(x=1, y=1)\n",
    "        ax2.set_title(\"No Semiology events found in file...\")\n",
    "    ax.set_yticks([])\n",
    "    ax.set_axis_off()\n",
    "    fig.subplots_adjust(hspace=0.2)\n",
    "    return fig\n",
    "\n",
    "fig = plot_eventcounts(df=df, eeg=e_events, semio=s_events, source=e)"
   ]
  },
  {
   "cell_type": "code",
   "execution_count": null,
   "metadata": {},
   "outputs": [],
   "source": [
    "df.to_csv(\"df_template.csv\")"
   ]
  },
  {
   "cell_type": "code",
   "execution_count": null,
   "metadata": {},
   "outputs": [],
   "source": [
    "df = pd.read_csv(\"df_template.csv\")\n",
    "e_events, s_events, t_events = extract_groups(df, \"Test_Dataframe\")"
   ]
  },
  {
   "cell_type": "code",
   "execution_count": null,
   "metadata": {},
   "outputs": [],
   "source": [
    "fig = plot_eventcounts(df=df, eeg=e_events, semio=s_events, source=e)"
   ]
  },
  {
   "cell_type": "code",
   "execution_count": null,
   "metadata": {},
   "outputs": [],
   "source": [
    "import plotly.express as px\n",
    "def plot_interactive_eventcounts(eeg=None, semio=None, test=None, source=None):\n",
    "    fig = make_subplots(rows=3, cols=1, \n",
    "                        specs=[[{\"type\": \"bar\"}],\n",
    "                                [{\"type\": \"bar\"}],\n",
    "                                [{\"type\": \"bar\"}]],\n",
    "                        subplot_titles=(\"EEG events\", \"Semiology events\", \"Testing events\"),\n",
    "                        #row_width=[0.1, 0.1, 0.1],\n",
    "                        vertical_spacing=0.2\n",
    "                        )\n",
    "    # EEG\n",
    "    fig.add_trace(go.Histogram(y=e_events[\"description\"], \n",
    "                        histfunc=\"count\",\n",
    "                        orientation=\"h\",\n",
    "                        name=\"EEG\"),\n",
    "                    row=1, col=1\n",
    "                    )\n",
    "\n",
    "    # Semio\n",
    "    fig.add_trace(go.Histogram(y=s_events[\"description\"], \n",
    "                        histfunc=\"count\",\n",
    "                        orientation=\"h\",\n",
    "                        name=\"Semiology\"),\n",
    "                    row=2, col=1\n",
    "                    )    \n",
    "\n",
    "    # Test\n",
    "    fig.add_trace(go.Histogram(y=t_events[\"description\"], \n",
    "                        histfunc=\"count\",\n",
    "                        orientation=\"h\",\n",
    "                        name=\"Testing\"),\n",
    "                    row=3, col=1\n",
    "                    )\n",
    "\n",
    "\n",
    "    fig.update_yaxes(categoryorder=\"total descending\")\n",
    "    fig.update_layout(width=1000, height=1200)\n",
    "    return fig\n",
    "\n",
    "plot_interactive_eventcounts(eeg=e_events, semio=s_events, test=t_events, source=\"Test\")"
   ]
  },
  {
   "cell_type": "code",
   "execution_count": null,
   "metadata": {},
   "outputs": [],
   "source": [
    "def plot_interactive_eeg_and_semio(eeg=None, semio=None, test=None, source=None):\n",
    "    fig = make_subplots(rows=1, cols=2, start_cell=\"top-left\",\n",
    "                        subplot_titles=(\"EEG events\", \"Semiology events\"),\n",
    "                        #row_width=[0.1, 0.1, 0.1],\n",
    "                        horizontal_spacing=0.2\n",
    "                        )\n",
    "    # EEG\n",
    "    fig.add_trace(go.Histogram(y=e_events[\"description\"], \n",
    "                        histfunc=\"count\",\n",
    "                        orientation=\"h\",\n",
    "                        name=\"EEG\"),\n",
    "                    row=1, col=1\n",
    "                    )\n",
    "\n",
    "    # Semio\n",
    "    fig.add_trace(go.Histogram(y=s_events[\"description\"], \n",
    "                        histfunc=\"count\",\n",
    "                        orientation=\"h\",\n",
    "                        name=\"Semiology\"),\n",
    "                    row=1, col=2\n",
    "                    )    \n",
    "\n",
    "\n",
    "    fig.update_yaxes(categoryorder=\"total descending\")\n",
    "    fig.update_layout(width=1100, height=800)\n",
    "    return fig\n",
    "\n",
    "plot_interactive_eventcounts(eeg=e_events, semio=s_events, test=t_events, source=\"Test\")"
   ]
  },
  {
   "cell_type": "code",
   "execution_count": null,
   "metadata": {},
   "outputs": [],
   "source": [
    "t_events"
   ]
  },
  {
   "cell_type": "code",
   "execution_count": null,
   "metadata": {},
   "outputs": [],
   "source": [
    "def plot_interactive_eventcount(df=None, mode=None, source=None):\n",
    "    fig = go.Figure(\n",
    "        data=[go.Histogram(y=df[\"description\"], \n",
    "                            histfunc=\"count\",\n",
    "                            orientation=\"h\")]\n",
    "                    )\n",
    "    fig.update_yaxes(categoryorder=\"total descending\")\n",
    "    fig.update_layout(title=(source + \" - \" + mode + \" - Eventcount\"))\n",
    "    return fig\n",
    "plot_interactive_eventcount(t_events, mode=\"Semiology\", source= \"asd\")"
   ]
  },
  {
   "cell_type": "code",
   "execution_count": null,
   "metadata": {},
   "outputs": [],
   "source": [
    "t_events.loc[:,\"failed\"]=0\n",
    "succeeded = \"1\" in t_events[\"description\"]\n",
    "t_events.loc[t_events, \"failed\"] = 1\n",
    "\n",
    "fig = px.scatter(t_events, x=t_events[\"onset\"], y=t_events[\"description\"], color=\"failed\",\n",
    "                 title=\"Testing results\",\n",
    "                 labels={\"salary\":\"Annual Salary (in thousands)\"} # customize axis label\n",
    "                )\n",
    "\n",
    "fig.show()"
   ]
  },
  {
   "cell_type": "code",
   "execution_count": null,
   "metadata": {},
   "outputs": [],
   "source": [
    "t_events[\"description\"]"
   ]
  },
  {
   "cell_type": "code",
   "execution_count": null,
   "metadata": {},
   "outputs": [],
   "source": [
    "\"\"\"\n",
    "for testing \n",
    "--> color = \"gender\" wird zu 1 oder 0 (korrekt gemacht oder nicht)\n",
    "--> x Achse wird Zeit\n",
    "--> y Achse wird s_events[\"description\"]\n",
    "\n",
    "\"\"\"\n",
    "\n",
    "import plotly.express as px\n",
    "import pandas as pd\n",
    "\n",
    "schools = [\"Brown\", \"NYU\", \"Notre Dame\", \"Cornell\", \"Tufts\", \"Yale\",\n",
    "           \"Dartmouth\", \"Chicago\", \"Columbia\", \"Duke\", \"Georgetown\",\n",
    "           \"Princeton\", \"U.Penn\", \"Stanford\", \"MIT\", \"Harvard\"]\n",
    "n_schools = len(schools)\n",
    "\n",
    "men_salary = [72, 67, 73, 80, 76, 79, 84, 78, 86, 93, 94, 90, 92, 96, 94, 112]\n",
    "women_salary = [92, 94, 100, 107, 112, 114, 114, 118, 119, 124, 131, 137, 141, 151, 152, 165]\n",
    "\n",
    "df = pd.DataFrame(dict(school=schools*2, salary=men_salary + women_salary,\n",
    "                       gender=[\"Men\"]*n_schools + [\"Women\"]*n_schools))\n",
    "\n",
    "# Use column names of df for the different parameters x, y, color, ...\n",
    "fig = px.scatter(df, x=\"salary\", y=\"school\", color=\"gender\",\n",
    "                 title=\"Gender Earnings Disparity\",\n",
    "                 labels={\"salary\":\"Annual Salary (in thousands)\"} # customize axis label\n",
    "                )\n",
    "\n",
    "fig.show()\n",
    "\n"
   ]
  },
  {
   "cell_type": "code",
   "execution_count": null,
   "metadata": {},
   "outputs": [],
   "source": []
  }
 ]
}